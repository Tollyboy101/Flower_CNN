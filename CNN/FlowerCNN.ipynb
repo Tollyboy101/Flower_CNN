{
 "cells": [
  {
   "cell_type": "code",
   "execution_count": 2,
   "metadata": {
    "scrolled": true
   },
   "outputs": [
    {
     "name": "stdout",
     "output_type": "stream",
     "text": [
      "Train on 1277 samples, validate on 226 samples\n",
      "Epoch 1/20\n",
      "1277/1277 [==============================] - 21s 16ms/step - loss: 0.8015 - acc: 0.4980 - val_loss: 0.6944 - val_acc: 0.5088\n",
      "Epoch 2/20\n",
      "1277/1277 [==============================] - 21s 16ms/step - loss: 0.6957 - acc: 0.5067 - val_loss: 0.6964 - val_acc: 0.4912\n",
      "Epoch 3/20\n",
      "1277/1277 [==============================] - 22s 17ms/step - loss: 0.6961 - acc: 0.4792 - val_loss: 0.6969 - val_acc: 0.5088\n",
      "Epoch 4/20\n",
      "1277/1277 [==============================] - 21s 17ms/step - loss: 0.6954 - acc: 0.4996 - val_loss: 0.6969 - val_acc: 0.5088\n",
      "Epoch 5/20\n",
      "1277/1277 [==============================] - 21s 17ms/step - loss: 0.6972 - acc: 0.4855 - val_loss: 0.6932 - val_acc: 0.5088\n",
      "Epoch 6/20\n",
      "1277/1277 [==============================] - 21s 16ms/step - loss: 0.6945 - acc: 0.5114 - val_loss: 0.6945 - val_acc: 0.4912\n",
      "Epoch 7/20\n",
      "1277/1277 [==============================] - 21s 16ms/step - loss: 0.6983 - acc: 0.4894 - val_loss: 0.6975 - val_acc: 0.4912\n",
      "Epoch 8/20\n",
      "1277/1277 [==============================] - 21s 16ms/step - loss: 0.6957 - acc: 0.5059 - val_loss: 0.6997 - val_acc: 0.5088\n",
      "Epoch 9/20\n",
      "1277/1277 [==============================] - 21s 16ms/step - loss: 0.6964 - acc: 0.4965 - val_loss: 0.6930 - val_acc: 0.5088\n",
      "Epoch 10/20\n",
      "1277/1277 [==============================] - 20s 16ms/step - loss: 0.6943 - acc: 0.4988 - val_loss: 0.6940 - val_acc: 0.4912\n",
      "Epoch 11/20\n",
      "1277/1277 [==============================] - 20s 16ms/step - loss: 0.6956 - acc: 0.5137 - val_loss: 0.6935 - val_acc: 0.5088\n",
      "Epoch 12/20\n",
      "1277/1277 [==============================] - 20s 16ms/step - loss: 0.6945 - acc: 0.4996 - val_loss: 0.6932 - val_acc: 0.5088\n",
      "Epoch 13/20\n",
      "1277/1277 [==============================] - 20s 16ms/step - loss: 0.6950 - acc: 0.5114 - val_loss: 0.6986 - val_acc: 0.4912\n",
      "Epoch 14/20\n",
      "1277/1277 [==============================] - 20s 16ms/step - loss: 0.6949 - acc: 0.5145 - val_loss: 0.6964 - val_acc: 0.4912\n",
      "Epoch 15/20\n",
      "1277/1277 [==============================] - 20s 16ms/step - loss: 0.6967 - acc: 0.4980 - val_loss: 0.6943 - val_acc: 0.5088\n",
      "Epoch 16/20\n",
      "1277/1277 [==============================] - 20s 16ms/step - loss: 0.6953 - acc: 0.4996 - val_loss: 0.7011 - val_acc: 0.5088\n",
      "Epoch 17/20\n",
      "1277/1277 [==============================] - 20s 16ms/step - loss: 0.6943 - acc: 0.5145 - val_loss: 0.6987 - val_acc: 0.4912\n",
      "Epoch 18/20\n",
      "1277/1277 [==============================] - 20s 16ms/step - loss: 0.6969 - acc: 0.4949 - val_loss: 0.6932 - val_acc: 0.4912\n",
      "Epoch 19/20\n",
      "1277/1277 [==============================] - 20s 16ms/step - loss: 0.6955 - acc: 0.5200 - val_loss: 0.6946 - val_acc: 0.5088\n",
      "Epoch 20/20\n",
      "1277/1277 [==============================] - 20s 16ms/step - loss: 0.6955 - acc: 0.5153 - val_loss: 0.6967 - val_acc: 0.5088\n"
     ]
    },
    {
     "data": {
      "text/plain": [
       "<tensorflow.python.keras.callbacks.History at 0x1d3e79c2080>"
      ]
     },
     "execution_count": 2,
     "metadata": {},
     "output_type": "execute_result"
    }
   ],
   "source": [
    "#loading dependencies\n",
    "import numpy as np\n",
    "import tensorflow as tf\n",
    "from tensorflow.keras.layers import Conv2D, Dense, Flatten, Activation, Dropout, MaxPooling2D\n",
    "from tensorflow.keras.models import Sequential\n",
    "from tensorflow.keras import optimizers\n",
    "import pickle\n",
    "import cv2\n",
    "from tensorflow.keras.callbacks import TensorBoard\n",
    "import time\n",
    "\n",
    "\n",
    "NAME = \"Flower_classification-{}\".format(int(time.time()))\n",
    "tensorboard = TensorBoard(log_dir=\"logs/{}\".format(NAME))\n",
    "\n",
    "#loading data\n",
    "X = pickle.load(open(\"X.pickle\",\"rb\"))#\"rb\" represents read and binary as this is not txt\n",
    "y = pickle.load(open(\"y.pickle\",\"rb\"))\n",
    "\n",
    "\n",
    "#normalizing data\n",
    "X = X/255\n",
    "#for index,i in enumerate(X):\n",
    "#    mean = np.mean(X)\n",
    "#    (i-mean)**2\n",
    "#    if index != 0:\n",
    "#        np.sqrt(i-[index-1])\n",
    "#    else:\n",
    "#        pass\n",
    "#creating model\n",
    "model = Sequential()\n",
    "\n",
    "model.add(Dropout(0.25))#used to prevent overfitting, shutsdown half the model sometimes\n",
    "model.add(Conv2D(64,(3,3),input_shape=X.shape[1:]))#(64 nodes, (3,3 convolution), input shape is X)\n",
    "model.add(Activation(\"sigmoid\"))#gets rid of negative values\n",
    "model.add(MaxPooling2D(pool_size=(2,2))) #simplifies output\n",
    "\n",
    "model.add(Dropout(0.25))\n",
    "model.add(Conv2D(64,(3,3),input_shape=X.shape[1:]))\n",
    "model.add(Activation(\"sigmoid\"))\n",
    "model.add(MaxPooling2D(pool_size=(2,2)))\n",
    "\n",
    "model.add(Dropout(0.25))\n",
    "model.add(Flatten())\n",
    "model.add(Dense(128))\n",
    "model.add(Activation(\"sigmoid\"))\n",
    "\n",
    "model.add(Dense(1))\n",
    "model.add(Activation(\"sigmoid\"))\n",
    "\n",
    "#custom optimizer\n",
    "#sgd = tf.keras.optimizers.SGD(lr=0.0001, momentum=0.0, decay=0.001, nesterov=False)\n",
    "\n",
    "#compiling model\n",
    "model.compile(loss=\"binary_crossentropy\",#this is used as the output is not binary\n",
    "              optimizer=\"adam\",\n",
    "              metrics=['accuracy'])\n",
    "\n",
    "#fiting input into model\n",
    "model.fit(X,y,batch_size=8, epochs=20, validation_split=0.15, callbacks=[tensorboard])"
   ]
  },
  {
   "cell_type": "code",
   "execution_count": null,
   "metadata": {},
   "outputs": [],
   "source": []
  },
  {
   "cell_type": "code",
   "execution_count": null,
   "metadata": {},
   "outputs": [],
   "source": []
  },
  {
   "cell_type": "code",
   "execution_count": null,
   "metadata": {},
   "outputs": [],
   "source": []
  },
  {
   "cell_type": "markdown",
   "metadata": {},
   "source": []
  },
  {
   "cell_type": "code",
   "execution_count": 3,
   "metadata": {},
   "outputs": [],
   "source": [
    "import h5py\n",
    "model.save(\"FlowerCNN.h5\")"
   ]
  },
  {
   "cell_type": "code",
   "execution_count": 3,
   "metadata": {},
   "outputs": [],
   "source": [
    "model.save(\"FlowerCNN.model\")"
   ]
  },
  {
   "cell_type": "code",
   "execution_count": null,
   "metadata": {},
   "outputs": [],
   "source": []
  }
 ],
 "metadata": {
  "kernelspec": {
   "display_name": "Python 3",
   "language": "python",
   "name": "python3"
  },
  "language_info": {
   "codemirror_mode": {
    "name": "ipython",
    "version": 3
   },
   "file_extension": ".py",
   "mimetype": "text/x-python",
   "name": "python",
   "nbconvert_exporter": "python",
   "pygments_lexer": "ipython3",
   "version": "3.5.2"
  }
 },
 "nbformat": 4,
 "nbformat_minor": 2
}
