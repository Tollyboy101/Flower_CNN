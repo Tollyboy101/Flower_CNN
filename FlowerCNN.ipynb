{
 "cells": [
  {
   "cell_type": "code",
   "execution_count": 2,
   "metadata": {
    "scrolled": true
   },
   "outputs": [
    {
     "name": "stdout",
     "output_type": "stream",
     "text": [
      "Train on 1277 samples, validate on 226 samples\n",
      "Epoch 1/20\n",
      "1277/1277 [==============================] - 21s 16ms/step - loss: 0.6526 - acc: 0.6038 - val_loss: 0.5842 - val_acc: 0.7080\n",
      "Epoch 2/20\n",
      "1277/1277 [==============================] - 20s 16ms/step - loss: 0.5790 - acc: 0.6938 - val_loss: 0.5691 - val_acc: 0.6947\n",
      "Epoch 3/20\n",
      "1277/1277 [==============================] - 22s 17ms/step - loss: 0.5437 - acc: 0.7283 - val_loss: 0.5648 - val_acc: 0.6903\n",
      "Epoch 4/20\n",
      "1277/1277 [==============================] - 21s 16ms/step - loss: 0.4962 - acc: 0.7557 - val_loss: 0.5092 - val_acc: 0.7345\n",
      "Epoch 5/20\n",
      "1277/1277 [==============================] - 22s 17ms/step - loss: 0.4711 - acc: 0.7666 - val_loss: 0.5260 - val_acc: 0.7257\n",
      "Epoch 6/20\n",
      "1277/1277 [==============================] - 20s 16ms/step - loss: 0.4312 - acc: 0.7987 - val_loss: 0.5845 - val_acc: 0.6504\n",
      "Epoch 7/20\n",
      "1277/1277 [==============================] - 20s 16ms/step - loss: 0.3817 - acc: 0.8175 - val_loss: 0.4776 - val_acc: 0.7611\n",
      "Epoch 8/20\n",
      "1277/1277 [==============================] - 20s 16ms/step - loss: 0.3332 - acc: 0.8512 - val_loss: 0.6031 - val_acc: 0.6593\n",
      "Epoch 9/20\n",
      "1277/1277 [==============================] - 20s 16ms/step - loss: 0.3006 - acc: 0.8637 - val_loss: 0.5114 - val_acc: 0.7345\n",
      "Epoch 10/20\n",
      "1277/1277 [==============================] - 20s 16ms/step - loss: 0.2572 - acc: 0.8966 - val_loss: 0.6018 - val_acc: 0.6991\n",
      "Epoch 11/20\n",
      "1277/1277 [==============================] - 21s 16ms/step - loss: 0.2176 - acc: 0.9115 - val_loss: 0.6363 - val_acc: 0.7257\n",
      "Epoch 12/20\n",
      "1277/1277 [==============================] - 20s 16ms/step - loss: 0.2040 - acc: 0.9201 - val_loss: 0.7134 - val_acc: 0.6991\n",
      "Epoch 13/20\n",
      "1277/1277 [==============================] - 20s 16ms/step - loss: 0.1677 - acc: 0.9334 - val_loss: 0.6282 - val_acc: 0.7168\n",
      "Epoch 14/20\n",
      "1277/1277 [==============================] - 21s 16ms/step - loss: 0.1494 - acc: 0.9436 - val_loss: 0.8785 - val_acc: 0.6858\n",
      "Epoch 15/20\n",
      "1277/1277 [==============================] - 20s 16ms/step - loss: 0.0981 - acc: 0.9601 - val_loss: 0.8204 - val_acc: 0.6991\n",
      "Epoch 16/20\n",
      "1277/1277 [==============================] - 20s 16ms/step - loss: 0.1124 - acc: 0.9569 - val_loss: 0.7653 - val_acc: 0.7257\n",
      "Epoch 17/20\n",
      "1277/1277 [==============================] - 20s 16ms/step - loss: 0.0812 - acc: 0.9702 - val_loss: 1.0171 - val_acc: 0.6814\n",
      "Epoch 18/20\n",
      "1277/1277 [==============================] - 20s 16ms/step - loss: 0.0859 - acc: 0.9702 - val_loss: 0.6626 - val_acc: 0.7611\n",
      "Epoch 19/20\n",
      "1277/1277 [==============================] - 20s 16ms/step - loss: 0.0818 - acc: 0.9726 - val_loss: 1.0449 - val_acc: 0.6991\n",
      "Epoch 20/20\n",
      "1277/1277 [==============================] - 20s 16ms/step - loss: 0.0628 - acc: 0.9812 - val_loss: 0.8164 - val_acc: 0.7301\n"
     ]
    },
    {
     "data": {
      "text/plain": [
       "<tensorflow.python.keras.callbacks.History at 0x24e932ef358>"
      ]
     },
     "execution_count": 2,
     "metadata": {},
     "output_type": "execute_result"
    }
   ],
   "source": [
    "#loading dependencies\n",
    "import numpy as np\n",
    "import tensorflow as tf\n",
    "from tensorflow.keras.layers import Conv2D, Dense, Flatten, Activation, Dropout, MaxPooling2D\n",
    "from tensorflow.keras.models import Sequential\n",
    "from tensorflow.keras import optimizers\n",
    "import pickle\n",
    "import cv2\n",
    "from tensorflow.keras.callbacks import TensorBoard\n",
    "import time\n",
    "\n",
    "\n",
    "NAME = \"Flower_classification-{}\".format(int(time.time()))\n",
    "tensorboard = TensorBoard(log_dir=\"logs/{}\".format(NAME))\n",
    "\n",
    "#loading data\n",
    "X = pickle.load(open(\"X.pickle\",\"rb\"))#\"rb\" represents read and binary as this is not txt\n",
    "y = pickle.load(open(\"y.pickle\",\"rb\"))\n",
    "\n",
    "\n",
    "#normalizing data\n",
    "X = X/255\n",
    "#for index,i in enumerate(X):\n",
    "#    mean = np.mean(X)\n",
    "#    (i-mean)**2\n",
    "#    if index != 0:\n",
    "#        np.sqrt(i-[index-1])\n",
    "#    else:\n",
    "#        pass\n",
    "#creating model\n",
    "model = Sequential()\n",
    "\n",
    "model.add(Dropout(0.25))#used to prevent overfitting, shutsdown half the model sometimes\n",
    "model.add(Conv2D(64,(3,3),input_shape=X.shape[1:]))#(64 nodes, (3,3 convolution), input shape is X)\n",
    "model.add(Activation(\"relu\"))#gets rid of negative values\n",
    "model.add(MaxPooling2D(pool_size=(2,2))) #simplifies output\n",
    "\n",
    "model.add(Dropout(0.25))\n",
    "model.add(Conv2D(64,(3,3),input_shape=X.shape[1:]))\n",
    "model.add(Activation(\"relu\"))\n",
    "model.add(MaxPooling2D(pool_size=(2,2)))\n",
    "\n",
    "model.add(Dropout(0.25))\n",
    "model.add(Flatten())\n",
    "model.add(Dense(128))\n",
    "model.add(Activation(\"relu\"))\n",
    "\n",
    "model.add(Dense(1))\n",
    "model.add(Activation(\"sigmoid\"))\n",
    "\n",
    "#custom optimizer\n",
    "#sgd = tf.keras.optimizers.SGD(lr=0.0001, momentum=0.0, decay=0.001, nesterov=False)\n",
    "\n",
    "#compiling model\n",
    "model.compile(loss=\"binary_crossentropy\",#this is used as the output is not binary\n",
    "              optimizer=\"adam\",\n",
    "              metrics=['accuracy'])\n",
    "\n",
    "#fiting input into model\n",
    "model.fit(X,y,batch_size=8, epochs=20, validation_split=0.15, callbacks=[tensorboard])"
   ]
  },
  {
   "cell_type": "code",
   "execution_count": null,
   "metadata": {},
   "outputs": [],
   "source": []
  },
  {
   "cell_type": "code",
   "execution_count": null,
   "metadata": {},
   "outputs": [],
   "source": []
  },
  {
   "cell_type": "code",
   "execution_count": null,
   "metadata": {},
   "outputs": [],
   "source": []
  },
  {
   "cell_type": "markdown",
   "metadata": {},
   "source": []
  },
  {
   "cell_type": "code",
   "execution_count": 3,
   "metadata": {},
   "outputs": [],
   "source": [
    "import h5py\n",
    "model.save(\"FlowerCNN.h5\")"
   ]
  },
  {
   "cell_type": "code",
   "execution_count": null,
   "metadata": {},
   "outputs": [],
   "source": []
  }
 ],
 "metadata": {
  "kernelspec": {
   "display_name": "Python 3",
   "language": "python",
   "name": "python3"
  },
  "language_info": {
   "codemirror_mode": {
    "name": "ipython",
    "version": 3
   },
   "file_extension": ".py",
   "mimetype": "text/x-python",
   "name": "python",
   "nbconvert_exporter": "python",
   "pygments_lexer": "ipython3",
   "version": "3.5.2"
  }
 },
 "nbformat": 4,
 "nbformat_minor": 2
}
